{
  "nbformat": 4,
  "nbformat_minor": 0,
  "metadata": {
    "colab": {
      "name": "Converting Celsius to Fahrenheit",
      "version": "0.3.2",
      "provenance": [],
      "toc_visible": true,
      "include_colab_link": true
    },
    "kernelspec": {
      "name": "python3",
      "display_name": "Python 3"
    }
  },
  "cells": [
    {
      "cell_type": "markdown",
      "metadata": {
        "id": "view-in-github",
        "colab_type": "text"
      },
      "source": [
        "<a href=\"https://colab.research.google.com/github/kb22/Tensorflow-Course/blob/master/Converting_Celsius_to_Fahrenheit.ipynb\" target=\"_parent\"><img src=\"https://colab.research.google.com/assets/colab-badge.svg\" alt=\"Open In Colab\"/></a>"
      ]
    },
    {
      "cell_type": "markdown",
      "metadata": {
        "id": "L818Q-pPjAAn",
        "colab_type": "text"
      },
      "source": [
        "# Converting Celsius to Fahrenheit\n",
        "\n",
        "In this notebook, I'll create a deep learning network that is able to create a relation between Celsius and Fahrenheit degrees and compare if the deep learning model is able to find a comparable relationshp."
      ]
    },
    {
      "cell_type": "markdown",
      "metadata": {
        "id": "qwIZIAw2k9Xl",
        "colab_type": "text"
      },
      "source": [
        "## Import libraries\n",
        "\n",
        "The first step is to import all necessary libraries. As I'll be using Keras and Tensorflow, I'll import them."
      ]
    },
    {
      "cell_type": "code",
      "metadata": {
        "id": "S7R5n_e7iqwb",
        "colab_type": "code",
        "colab": {}
      },
      "source": [
        "import numpy as np\n",
        "import matplotlib.pyplot as plt\n",
        "\n",
        "import tensorflow as tf"
      ],
      "execution_count": 0,
      "outputs": []
    },
    {
      "cell_type": "markdown",
      "metadata": {
        "id": "ES__nRxUpU9Q",
        "colab_type": "text"
      },
      "source": [
        "I'll also set the logger to only log any errors."
      ]
    },
    {
      "cell_type": "code",
      "metadata": {
        "id": "zDAjkvlapUr9",
        "colab_type": "code",
        "colab": {}
      },
      "source": [
        "import logging\n",
        "\n",
        "logger = tf.get_logger()\n",
        "logger.setLevel(logging.ERROR)"
      ],
      "execution_count": 0,
      "outputs": []
    },
    {
      "cell_type": "markdown",
      "metadata": {
        "id": "cn4teVM1ma9N",
        "colab_type": "text"
      },
      "source": [
        "## Data description\n",
        "\n",
        "The first step is to create a celsius and fahrenheit values that the deep learning model will use to train on.\n",
        "- **Features:** The set of input values given to the model are called features. In the present case, the features are the degree values in celsius.\n",
        "- **Labels:** The set of output values for given input values are called labels. In the present case, the labels as the degree values in fahrenheit.\n",
        "- **Example:** An example in the deep learning terminology refers to a pair of input/output."
      ]
    },
    {
      "cell_type": "code",
      "metadata": {
        "id": "5XGRXGXpnmNd",
        "colab_type": "code",
        "colab": {
          "base_uri": "https://localhost:8080/",
          "height": 136
        },
        "outputId": "794e7ef4-f43a-41cd-a14b-5081a51e1fd9"
      },
      "source": [
        "celsius_values    = np.array([-40, -10,  0,  8, 15, 22,  38],  dtype = float)\n",
        "fahrenheit_values = np.array([-40,  14, 32, 46, 59, 72, 100],  dtype = float)\n",
        "\n",
        "for index, celsius in enumerate(celsius_values):\n",
        "  print(\"{} degree Celsius is {} degree Fahrenheit.\".format(celsius, fahrenheit_values[index]))"
      ],
      "execution_count": 3,
      "outputs": [
        {
          "output_type": "stream",
          "text": [
            "-40.0 degree Celsius is -40.0 degree Fahrenheit.\n",
            "-10.0 degree Celsius is 14.0 degree Fahrenheit.\n",
            "0.0 degree Celsius is 32.0 degree Fahrenheit.\n",
            "8.0 degree Celsius is 46.0 degree Fahrenheit.\n",
            "15.0 degree Celsius is 59.0 degree Fahrenheit.\n",
            "22.0 degree Celsius is 72.0 degree Fahrenheit.\n",
            "38.0 degree Celsius is 100.0 degree Fahrenheit.\n"
          ],
          "name": "stdout"
        }
      ]
    },
    {
      "cell_type": "markdown",
      "metadata": {
        "id": "LkcBAoh0n-xy",
        "colab_type": "text"
      },
      "source": [
        "## Model creation\n",
        "\n",
        "The next step is to create the model using tensorflow.\n",
        "\n",
        "### Sequential Model\n",
        "\n",
        "A sequential model is defined as a model in which all the layers are placed one after the other like in a sequence. The sequence model in tensorflow expects an array of layers which are stacked in the given order.\n",
        "\n",
        "### Dense layer\n",
        "\n",
        "A dense layer is basically a full connected layer in tensorflow. A fully connected layer means that all nodes in the given layer are connected with all nodes in the previous layer.\n",
        "\n",
        "- **units:** The units defines the number of nodes that are present in that given layer.\n",
        "- **input_shape:** The input shape is required in the first layer in the sequential model. It defines the number of inputs to the model at a given time. "
      ]
    },
    {
      "cell_type": "code",
      "metadata": {
        "id": "wVB7RVEJn-jM",
        "colab_type": "code",
        "colab": {}
      },
      "source": [
        "layer_0 = tf.keras.layers.Dense(units = 1, input_shape = [1])\n",
        "model = tf.keras.Sequential([layer_0])"
      ],
      "execution_count": 0,
      "outputs": []
    },
    {
      "cell_type": "markdown",
      "metadata": {
        "id": "_wGIZCaipaa7",
        "colab_type": "text"
      },
      "source": [
        "I've created the **Sequential model** with only layer. The layer has only 1 node.\n",
        "\n",
        "However, this is not enough. We need to compile the model."
      ]
    },
    {
      "cell_type": "markdown",
      "metadata": {
        "id": "P9KIKTXkpqMJ",
        "colab_type": "text"
      },
      "source": [
        "## Compiling the model\n",
        "\n",
        "Compiling the model is necessary as we need to define a **loss function** on which to evaluate the model during training and the **optimizer** which will tweak the model weights to train the model.\n",
        "\n",
        "- **loss function:** During each iteration the loss method is used to check the difference between the predicted label of the model and the actual label. The aim is to minimise this loss as much as possible.\n",
        "- **optimizer:** The optimizer tweaks the weights and biases of the model to better understand the relation between the features and labels so it can predict on new data."
      ]
    },
    {
      "cell_type": "code",
      "metadata": {
        "id": "RUJhMORcpaCZ",
        "colab_type": "code",
        "colab": {}
      },
      "source": [
        "model.compile(loss = 'mean_squared_error', optimizer = tf.keras.optimizers.Adam(0.001))"
      ],
      "execution_count": 0,
      "outputs": []
    },
    {
      "cell_type": "markdown",
      "metadata": {
        "id": "4avdCEYvrMWq",
        "colab_type": "text"
      },
      "source": [
        "I'm using the **mean_squared_error** as the loss function and **Adam** as the optimizer with the learning rate of 0.001."
      ]
    },
    {
      "cell_type": "markdown",
      "metadata": {
        "id": "XWmN9goorY6i",
        "colab_type": "text"
      },
      "source": [
        "## Training the model"
      ]
    },
    {
      "cell_type": "code",
      "metadata": {
        "id": "RZh8HCrbmX5A",
        "colab_type": "code",
        "colab": {}
      },
      "source": [
        ""
      ],
      "execution_count": 0,
      "outputs": []
    }
  ]
}