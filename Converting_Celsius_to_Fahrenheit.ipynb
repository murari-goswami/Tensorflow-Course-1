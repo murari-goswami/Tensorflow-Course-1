{
  "nbformat": 4,
  "nbformat_minor": 0,
  "metadata": {
    "colab": {
      "name": "Converting Celsius to Fahrenheit",
      "version": "0.3.2",
      "provenance": [],
      "toc_visible": true,
      "include_colab_link": true
    },
    "kernelspec": {
      "name": "python3",
      "display_name": "Python 3"
    }
  },
  "cells": [
    {
      "cell_type": "markdown",
      "metadata": {
        "id": "view-in-github",
        "colab_type": "text"
      },
      "source": [
        "<a href=\"https://colab.research.google.com/github/kb22/Tensorflow-Course/blob/master/Converting_Celsius_to_Fahrenheit.ipynb\" target=\"_parent\"><img src=\"https://colab.research.google.com/assets/colab-badge.svg\" alt=\"Open In Colab\"/></a>"
      ]
    },
    {
      "cell_type": "markdown",
      "metadata": {
        "id": "L818Q-pPjAAn",
        "colab_type": "text"
      },
      "source": [
        "# Converting Celsius to Fahrenheit\n",
        "\n",
        "In this notebook, I'll create a deep learning network that is able to create a relation between Celsius and Fahrenheit degrees and compare if the deep learning model is able to find a comparable relationshp."
      ]
    },
    {
      "cell_type": "markdown",
      "metadata": {
        "id": "9XHyE6tRzw1X",
        "colab_type": "text"
      },
      "source": [
        "## Background\n",
        "\n",
        "The two most popular temperature scales are Celsius (C) and Fahrenheit (F). There is a simple linear conversion formula to convert from Celsius to Fahrenheit.\n",
        "\n",
        "$$ F = C \\times 1.8 + 32 $$\n",
        "\n",
        "As this is a linear problem, it's a good start to learn about deep learning and also interpret the weights and biases."
      ]
    },
    {
      "cell_type": "markdown",
      "metadata": {
        "id": "qwIZIAw2k9Xl",
        "colab_type": "text"
      },
      "source": [
        "## Import libraries\n",
        "\n",
        "The first step is to import all necessary libraries. As I'll be using Keras and Tensorflow, I'll import them."
      ]
    },
    {
      "cell_type": "code",
      "metadata": {
        "id": "S7R5n_e7iqwb",
        "colab_type": "code",
        "colab": {}
      },
      "source": [
        "import numpy as np\n",
        "import matplotlib.pyplot as plt\n",
        "\n",
        "import tensorflow as tf"
      ],
      "execution_count": 0,
      "outputs": []
    },
    {
      "cell_type": "markdown",
      "metadata": {
        "id": "ES__nRxUpU9Q",
        "colab_type": "text"
      },
      "source": [
        "I'll also set the logger to only log any errors."
      ]
    },
    {
      "cell_type": "code",
      "metadata": {
        "id": "zDAjkvlapUr9",
        "colab_type": "code",
        "colab": {}
      },
      "source": [
        "import logging\n",
        "\n",
        "logger = tf.get_logger()\n",
        "logger.setLevel(logging.ERROR)"
      ],
      "execution_count": 0,
      "outputs": []
    },
    {
      "cell_type": "markdown",
      "metadata": {
        "id": "cn4teVM1ma9N",
        "colab_type": "text"
      },
      "source": [
        "## Data description\n",
        "\n",
        "The first step is to create a celsius and fahrenheit values that the deep learning model will use to train on.\n",
        "- **Features:** The set of input values given to the model are called features. In the present case, the features are the degree values in celsius.\n",
        "- **Labels:** The set of output values for given input values are called labels. In the present case, the labels as the degree values in fahrenheit.\n",
        "- **Example:** An example in the deep learning terminology refers to a pair of input/output."
      ]
    },
    {
      "cell_type": "code",
      "metadata": {
        "id": "5XGRXGXpnmNd",
        "colab_type": "code",
        "colab": {
          "base_uri": "https://localhost:8080/",
          "height": 136
        },
        "outputId": "fbd61da0-e5c3-4789-ed6b-764e9a38f50c"
      },
      "source": [
        "celsius_values    = np.array([-40, -10,  0,  8, 15, 22,  38],  dtype = float)\n",
        "fahrenheit_values = np.array([-40,  14, 32, 46, 59, 72, 100],  dtype = float)\n",
        "\n",
        "for index, celsius in enumerate(celsius_values):\n",
        "  print(\"{} degree Celsius is {} degree Fahrenheit.\".format(celsius, fahrenheit_values[index]))"
      ],
      "execution_count": 3,
      "outputs": [
        {
          "output_type": "stream",
          "text": [
            "-40.0 degree Celsius is -40.0 degree Fahrenheit.\n",
            "-10.0 degree Celsius is 14.0 degree Fahrenheit.\n",
            "0.0 degree Celsius is 32.0 degree Fahrenheit.\n",
            "8.0 degree Celsius is 46.0 degree Fahrenheit.\n",
            "15.0 degree Celsius is 59.0 degree Fahrenheit.\n",
            "22.0 degree Celsius is 72.0 degree Fahrenheit.\n",
            "38.0 degree Celsius is 100.0 degree Fahrenheit.\n"
          ],
          "name": "stdout"
        }
      ]
    },
    {
      "cell_type": "markdown",
      "metadata": {
        "id": "LkcBAoh0n-xy",
        "colab_type": "text"
      },
      "source": [
        "## Model creation\n",
        "\n",
        "The next step is to create the model using tensorflow.\n",
        "\n",
        "### Sequential Model\n",
        "\n",
        "A sequential model is defined as a model in which all the layers are placed one after the other like in a sequence. The sequence model in tensorflow expects an array of layers which are stacked in the given order.\n",
        "\n",
        "### Dense layer\n",
        "\n",
        "A dense layer is basically a full connected layer in tensorflow. A fully connected layer means that all nodes in the given layer are connected with all nodes in the previous layer.\n",
        "\n",
        "- **units:** The units defines the number of nodes that are present in that given layer.\n",
        "- **input_shape:** The input shape is required in the first layer in the sequential model. It defines the number of inputs to the model at a given time. "
      ]
    },
    {
      "cell_type": "code",
      "metadata": {
        "id": "wVB7RVEJn-jM",
        "colab_type": "code",
        "colab": {}
      },
      "source": [
        "layer_0 = tf.keras.layers.Dense(units = 1, input_shape = [1])\n",
        "model = tf.keras.Sequential([layer_0])"
      ],
      "execution_count": 0,
      "outputs": []
    },
    {
      "cell_type": "markdown",
      "metadata": {
        "id": "_wGIZCaipaa7",
        "colab_type": "text"
      },
      "source": [
        "I've created the **Sequential model** with only layer. The layer has only 1 node.\n",
        "\n",
        "However, this is not enough. We need to compile the model as well."
      ]
    },
    {
      "cell_type": "markdown",
      "metadata": {
        "id": "P9KIKTXkpqMJ",
        "colab_type": "text"
      },
      "source": [
        "## Compiling the model\n",
        "\n",
        "Compiling the model is necessary as we need to define a **loss function** on which to evaluate the model during training and the **optimizer** which will tweak the model weights to train the model.\n",
        "\n",
        "- **loss function:** During each iteration the loss method is used to check the difference between the predicted label of the model and the actual label. The aim is to minimise this loss as much as possible.\n",
        "- **optimizer:** The optimizer tweaks the weights and biases of the model to better understand the relation between the features and labels so it can predict on new data."
      ]
    },
    {
      "cell_type": "code",
      "metadata": {
        "id": "RUJhMORcpaCZ",
        "colab_type": "code",
        "colab": {}
      },
      "source": [
        "model.compile(loss = 'mean_squared_error', optimizer = tf.keras.optimizers.Adam(0.1))"
      ],
      "execution_count": 0,
      "outputs": []
    },
    {
      "cell_type": "markdown",
      "metadata": {
        "id": "4avdCEYvrMWq",
        "colab_type": "text"
      },
      "source": [
        "I'm using the **mean_squared_error** as the loss function and **Adam** as the optimizer with the learning rate of 0.1."
      ]
    },
    {
      "cell_type": "markdown",
      "metadata": {
        "id": "XWmN9goorY6i",
        "colab_type": "text"
      },
      "source": [
        "## Training the model\n",
        "\n",
        "The `fit()` method is used to train the model on the training set.\n",
        "\n",
        "- **x:** The input features into the model.\n",
        "- **y:** The actual labels for the given training examples.\n",
        "- **epochs:** The number of times the complete list of examples should be iterated over and over again.\n",
        "- **validation_split:** The portion of training data to be used for validation."
      ]
    },
    {
      "cell_type": "code",
      "metadata": {
        "id": "fd-sDLA4smOP",
        "colab_type": "code",
        "colab": {}
      },
      "source": [
        "history = model.fit(x = celsius_values, y = fahrenheit_values, epochs = 1000, verbose = False, validation_split = 0.2)"
      ],
      "execution_count": 0,
      "outputs": []
    },
    {
      "cell_type": "markdown",
      "metadata": {
        "id": "am06f4dWtIN_",
        "colab_type": "text"
      },
      "source": [
        "I'll train the model for over 1000 epochs. As there are 7 examples in the training set, the model will be trained for 7*1000 = 7000 times in total. I kept the verbose to `False` as this is a short training and I do not need the complete verbose data."
      ]
    },
    {
      "cell_type": "markdown",
      "metadata": {
        "id": "sP4OLJv_tyxg",
        "colab_type": "text"
      },
      "source": [
        "## Loss vs Epochs\n",
        "\n",
        "I'll also take a look at the loss for both training and validation and see that the model learns well."
      ]
    },
    {
      "cell_type": "code",
      "metadata": {
        "id": "wGpRA3iotqh3",
        "colab_type": "code",
        "colab": {
          "base_uri": "https://localhost:8080/",
          "height": 517
        },
        "outputId": "3820b5d7-8b33-4e52-9635-ff2f586be88b"
      },
      "source": [
        "plt.figure(figsize = (12, 8))\n",
        "plt.plot(history.history['loss'], label = 'Training loss', color = 'b')\n",
        "plt.plot(history.history['val_loss'], label = 'Validation loss', color = 'g')\n",
        "plt.xlabel(\"Epochs\")\n",
        "plt.ylabel(\"Loss\")\n",
        "plt.legend()"
      ],
      "execution_count": 7,
      "outputs": [
        {
          "output_type": "execute_result",
          "data": {
            "text/plain": [
              "<matplotlib.legend.Legend at 0x7f8676102f28>"
            ]
          },
          "metadata": {
            "tags": []
          },
          "execution_count": 7
        },
        {
          "output_type": "display_data",
          "data": {
            "image/png": "[encoded data removed]",
            "text/plain": [
              "<Figure size 864x576 with 1 Axes>"
            ]
          },
          "metadata": {
            "tags": []
          }
        }
      ]
    },
    {
      "cell_type": "markdown",
      "metadata": {
        "id": "L0SC9MRJxk2V",
        "colab_type": "text"
      },
      "source": [
        "After 1000 epochs, the model tends to get the training and validation loss close to zero."
      ]
    },
    {
      "cell_type": "markdown",
      "metadata": {
        "id": "YJx27S1Exsyv",
        "colab_type": "text"
      },
      "source": [
        "## Make prediciton\n",
        "\n",
        "As my model is now ready, I'll use it to get the fahrenheit values from celsius values on unseen data. Let's test what 100 degree celsius in fahrenheit is based on this model."
      ]
    },
    {
      "cell_type": "code",
      "metadata": {
        "id": "znU0GxeQtUj0",
        "colab_type": "code",
        "colab": {
          "base_uri": "https://localhost:8080/",
          "height": 51
        },
        "outputId": "4c997653-55b3-406f-c301-9a25833fefe0"
      },
      "source": [
        "print(\"In real, 100 degree celsius in fahrenheit is {:.2f}\".format(100*1.8 + 32))\n",
        "print(\"According to model, 100 degree celsius in fahrenheit is {:.2f}\".format(model.predict([100])[0][0]))"
      ],
      "execution_count": 8,
      "outputs": [
        {
          "output_type": "stream",
          "text": [
            "In real, 100 degree celsius in fahrenheit is 212.00\n",
            "According to model, 100 degree celsius in fahrenheit is 211.57\n"
          ],
          "name": "stdout"
        }
      ]
    },
    {
      "cell_type": "markdown",
      "metadata": {
        "id": "vSEL04a31JNZ",
        "colab_type": "text"
      },
      "source": [
        "## Evaluating weights\n",
        "\n",
        "I will also take a look at the model weights to see what the model has learnt."
      ]
    },
    {
      "cell_type": "code",
      "metadata": {
        "id": "cPwvanbt1SBz",
        "colab_type": "code",
        "colab": {
          "base_uri": "https://localhost:8080/",
          "height": 51
        },
        "outputId": "ed871e1e-640f-4dd6-ec1e-eb40aaf20e7a"
      },
      "source": [
        "for weight in model.get_weights():\n",
        "  print(weight)"
      ],
      "execution_count": 9,
      "outputs": [
        {
          "output_type": "stream",
          "text": [
            "[[1.796847]]\n",
            "[31.886404]\n"
          ],
          "name": "stdout"
        }
      ]
    },
    {
      "cell_type": "markdown",
      "metadata": {
        "id": "lvTPmILU1c6N",
        "colab_type": "text"
      },
      "source": [
        "The two values are close to the original equation and this is the reason why it is able to get such highly accurate predictions."
      ]
    },
    {
      "cell_type": "markdown",
      "metadata": {
        "id": "Xv4VUdWf02z4",
        "colab_type": "text"
      },
      "source": [
        "# Conclusion\n",
        "\n",
        "From the result above, we can see that the model has very well trained on the data. It's really fascinating to see how the model that did not even know about the formula was able to identify the weights and biases that led it to make such highly accurate predictons."
      ]
    }
  ]
}