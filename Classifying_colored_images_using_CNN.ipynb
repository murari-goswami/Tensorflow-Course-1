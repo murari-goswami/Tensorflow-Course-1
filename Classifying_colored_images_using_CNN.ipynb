{
  "nbformat": 4,
  "nbformat_minor": 0,
  "metadata": {
    "colab": {
      "name": "Classifying colored images using CNN",
      "version": "0.3.2",
      "provenance": [],
      "collapsed_sections": [],
      "include_colab_link": true
    },
    "kernelspec": {
      "name": "python3",
      "display_name": "Python 3"
    }
  },
  "cells": [
    {
      "cell_type": "markdown",
      "metadata": {
        "id": "view-in-github",
        "colab_type": "text"
      },
      "source": [
        "<a href=\"https://colab.research.google.com/github/kb22/Tensorflow-Course/blob/master/Classifying_colored_images_using_CNN.ipynb\" target=\"_parent\"><img src=\"https://colab.research.google.com/assets/colab-badge.svg\" alt=\"Open In Colab\"/></a>"
      ]
    },
    {
      "cell_type": "markdown",
      "metadata": {
        "id": "R6VneGyCPi0C",
        "colab_type": "text"
      },
      "source": [
        "# Classifying colored images using CNN\n",
        "\n",
        "In this notebook, I'll create a Convolutional Neural Network with Data augmentation and Dropout to train on a collection of images of cats and dogs. The complete deep learning methodology will be followed:\n",
        "1. Importing libraries\n",
        "2. Loading the dataset\n",
        "3. Exploratory data analysis\n",
        "4. Creating the CNN model\n",
        "5. Training the CNN model\n",
        "6. Testing the CNN model\n",
        "7. Improving the CNN model using data augmentation and dropout\n",
        "8. Loss and Accuracy Analysis"
      ]
    },
    {
      "cell_type": "code",
      "metadata": {
        "id": "-zAels7WPde5",
        "colab_type": "code",
        "colab": {}
      },
      "source": [
        ""
      ],
      "execution_count": 0,
      "outputs": []
    }
  ]
}