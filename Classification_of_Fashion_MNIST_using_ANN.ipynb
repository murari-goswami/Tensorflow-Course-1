{
  "nbformat": 4,
  "nbformat_minor": 0,
  "metadata": {
    "colab": {
      "name": "Classification of Fashion MNIST using ANN",
      "version": "0.3.2",
      "provenance": [],
      "toc_visible": true,
      "include_colab_link": true
    },
    "kernelspec": {
      "name": "python3",
      "display_name": "Python 3"
    }
  },
  "cells": [
    {
      "cell_type": "markdown",
      "metadata": {
        "id": "view-in-github",
        "colab_type": "text"
      },
      "source": [
        "<a href=\"https://colab.research.google.com/github/kb22/Tensorflow-Course/blob/master/Classification_of_Fashion_MNIST_using_ANN.ipynb\" target=\"_parent\"><img src=\"https://colab.research.google.com/assets/colab-badge.svg\" alt=\"Open In Colab\"/></a>"
      ]
    },
    {
      "cell_type": "markdown",
      "metadata": {
        "id": "UVhwdl1vtXiB",
        "colab_type": "text"
      },
      "source": [
        "# Classification of Fashion MNIST using ANN\n",
        "\n",
        "In this notebook, I'll use an Artificial Neural Network to train on the Fashion MNIST dataset and then classify amongst 10 different clothing items including shirt, sandel etc."
      ]
    },
    {
      "cell_type": "markdown",
      "metadata": {
        "id": "8HqRNLtGwCDQ",
        "colab_type": "text"
      },
      "source": [
        "## Background\n",
        "\n",
        "The Fashion MNIST dataset includes many images belonging to 10 different classes of clothing. These classes are:\n",
        "- T-shirt/top\n",
        "- Trouser\n",
        "- Pullover\n",
        "- Dress\n",
        "- Coat\n",
        "- Sandal\n",
        "- Shirt\n",
        "- Sneaker\n",
        "- Bag\n",
        "- Ankle boot\n",
        "\n",
        "The dataset allows us to use deep learning models to train on the images and then use it to classify new set of images from these classes. Each image is of the size 28x28 pixels. Each pixel value is represented as a value from 0 to 255. 0 refers to black, 255 refers to white and the number in between refer to different shades of gray. All images are grayscale."
      ]
    },
    {
      "cell_type": "markdown",
      "metadata": {
        "id": "QeL0l44Oxunw",
        "colab_type": "text"
      },
      "source": [
        "## Import libraries\n",
        "\n",
        "I'll import tensorflow and other libraries. The Fashion MNIST dataset is available in `tensorflow_datatsets`."
      ]
    },
    {
      "cell_type": "code",
      "metadata": {
        "id": "zJEiqG43tIeC",
        "colab_type": "code",
        "colab": {}
      },
      "source": [
        "import numpy as np\n",
        "import matplotlib.pyplot as plt\n",
        "%matplotlib inline\n",
        "\n",
        "import tensorflow as tf\n",
        "import tensorflow_datasets as tfds\n",
        "\n",
        "tf.enable_eager_execution()"
      ],
      "execution_count": 0,
      "outputs": []
    },
    {
      "cell_type": "markdown",
      "metadata": {
        "id": "RHkwD9dVy-7x",
        "colab_type": "text"
      },
      "source": [
        "I'll also set the logging to only log Tensorflow errors."
      ]
    },
    {
      "cell_type": "code",
      "metadata": {
        "id": "a51TaVLzy5ce",
        "colab_type": "code",
        "colab": {}
      },
      "source": [
        "import logging\n",
        "logger = tf.get_logger()\n",
        "logger.setLevel(logging.ERROR)"
      ],
      "execution_count": 0,
      "outputs": []
    },
    {
      "cell_type": "markdown",
      "metadata": {
        "id": "2xQJcYTnzE9q",
        "colab_type": "text"
      },
      "source": [
        "## Data retrieval\n",
        "\n",
        "The `tensorflow_datasets` already has the MNIST dataset. So, the best way to get the data is from here itself.\n",
        "The `tfds.load()` method is used to fetch the dataset.\n",
        "- **name:** It is the name of the dataset that we want to download.\n",
        "- **data_dir:** It defines the directory where we want to save/read the dataset to/from.\n",
        "- **as_supervised:** It returns the labels along with the features so that we can perform supervised learning.\n",
        "- **with_info:** It returns information about the dataset.\n",
        "\n",
        "The complete list of datasets is available [here](https://www.tensorflow.org/datasets/datasets)."
      ]
    },
    {
      "cell_type": "code",
      "metadata": {
        "id": "0LlgDqoj0s0K",
        "colab_type": "code",
        "colab": {}
      },
      "source": [
        "dataset, info = tfds.load(name = 'fashion_mnist', data_dir = 'data', as_supervised = True, with_info = True)"
      ],
      "execution_count": 0,
      "outputs": []
    },
    {
      "cell_type": "markdown",
      "metadata": {
        "id": "bnbSxjT22W9P",
        "colab_type": "text"
      },
      "source": [
        "Let's first take a look at the information available with this dataset."
      ]
    },
    {
      "cell_type": "code",
      "metadata": {
        "id": "Z0pcvcJk0yye",
        "colab_type": "code",
        "outputId": "49781cdd-2215-4d9c-8abd-d98923688818",
        "colab": {
          "base_uri": "https://localhost:8080/",
          "height": 87
        }
      },
      "source": [
        "print(\"Dataset name: {}\".format(info.name))\n",
        "print(\"Dataset version: {}\".format(info.version))\n",
        "print(\"Description: {}\".format(info.description))"
      ],
      "execution_count": 4,
      "outputs": [
        {
          "output_type": "stream",
          "text": [
            "Dataset name: fashion_mnist\n",
            "Dataset version: 1.0.0\n",
            "Description: Fashion-MNIST is a dataset of Zalando's article images consisting of a training set of 60,000 examples and a test set of 10,000 examples. Each example is a 28x28 grayscale image, associated with a label from 10 classes.\n"
          ],
          "name": "stdout"
        }
      ]
    },
    {
      "cell_type": "markdown",
      "metadata": {
        "id": "mEwDb7X_38g0",
        "colab_type": "text"
      },
      "source": [
        "There are 60,000 train images and 10,000 test images. Let's get those train and test data into separate variables."
      ]
    },
    {
      "cell_type": "code",
      "metadata": {
        "id": "00SB7YU92t41",
        "colab_type": "code",
        "colab": {}
      },
      "source": [
        "train_dataset = dataset['train']\n",
        "test_dataset = dataset['test']"
      ],
      "execution_count": 0,
      "outputs": []
    },
    {
      "cell_type": "markdown",
      "metadata": {
        "id": "DZ5MB3ZIFwML",
        "colab_type": "text"
      },
      "source": [
        "## Exploring the data\n",
        "\n",
        "I'll now take a look at a sample images from the training data by plotting the first 20 images. As the label from the dataset would be a number, I will create a `classes` variable that will include the names of all items in the correct order."
      ]
    },
    {
      "cell_type": "code",
      "metadata": {
        "id": "ceGJZNhsSark",
        "colab_type": "code",
        "colab": {}
      },
      "source": [
        "classes = ['T-shirt/top', 'Trouser', 'Pullover', 'Dress', 'Coat', 'Sandal', 'Shirt', 'Sneaker', 'Bag', 'Ankle boot']"
      ],
      "execution_count": 0,
      "outputs": []
    },
    {
      "cell_type": "code",
      "metadata": {
        "id": "1OTjl5-qOZtr",
        "colab_type": "code",
        "outputId": "66e3c4b8-d844-4509-a9e4-8cadeaf8455b",
        "colab": {
          "base_uri": "https://localhost:8080/",
          "height": 691
        }
      },
      "source": [
        "plt.figure(figsize = (12, 12))\n",
        "index = 1\n",
        "\n",
        "for image, label in train_dataset.take(20):\n",
        "  image = tf.reshape(image, (28, 28))\n",
        "  plt.subplot(4, 5, index)\n",
        "  plt.imshow(image, cmap = plt.cm.binary)\n",
        "  plt.xlabel(classes[label])\n",
        "  index += 1"
      ],
      "execution_count": 7,
      "outputs": [
        {
          "output_type": "display_data",
          "data": {
            "image/png": "[encoded data removed]",
            "text/plain": [
              "<Figure size 864x864 with 20 Axes>"
            ]
          },
          "metadata": {
            "tags": []
          }
        }
      ]
    },
    {
      "cell_type": "markdown",
      "metadata": {
        "id": "Lpoy0TuYOi8f",
        "colab_type": "text"
      },
      "source": [
        "From the view point of a human, the images are quite clear. I'm able to distinguish and see what each of the images actually are. None of the images have a background to them. It appears that all images were taken on a white background. While this would be relatively easy, in real life, such objects would be colored and mixed with other items and different backgrounds. This would make the task more challenging and interesting."
      ]
    },
    {
      "cell_type": "markdown",
      "metadata": {
        "id": "Q4GV5k1aTx3a",
        "colab_type": "text"
      },
      "source": [
        "## Processing the data\n",
        "\n",
        "For working with deep learning models, it's always a good practice to normalize the dataset. Thus, I'll convert each pixel value from the range of [0, 255] to [0, 1]. On applying a `map`, we can apply a given method to all images in the dataset. Using this, I'll iterate over both the train and test dataset."
      ]
    },
    {
      "cell_type": "code",
      "metadata": {
        "id": "m7EBadN5jxQG",
        "colab_type": "code",
        "colab": {}
      },
      "source": [
        "def normalize(images, labels):\n",
        "  images = tf.cast(images, tf.float32)\n",
        "  images /= 255\n",
        "  return images, labels\n",
        "\n",
        "train_dataset =  train_dataset.map(normalize)\n",
        "test_dataset  =  test_dataset.map(normalize)"
      ],
      "execution_count": 0,
      "outputs": []
    },
    {
      "cell_type": "markdown",
      "metadata": {
        "id": "pKrgwWynMOuD",
        "colab_type": "text"
      },
      "source": [
        "## Building the model\n",
        "\n",
        "The next step is to start with building the Artificial Neural Network that can read an image as an input and then output a class to which it thinks the item belongs to.\n",
        "I'll create the Neural Network with Flatten and Dense layers.\n",
        "\n",
        "### Flatten Layer\n",
        "This layer takes multi-dimensional array and converts it into a 1-D array.\n",
        "\n",
        "### Dense Layer\n",
        "The dense layer creates a fully connected layer in which all nodes in the present layer are connected to all nodes in the previous layer."
      ]
    },
    {
      "cell_type": "markdown",
      "metadata": {
        "id": "T4MZUxqDM-m_",
        "colab_type": "text"
      },
      "source": [
        "I'll create the Neural Network with 4 layers in total:\n",
        "- **1 Input layer:** The first layer is called the input layer. It accepts the image and converts its pixel values into a 1D array.\n",
        "- **2 Hidden layers:** These dense layers are fully connected with *relu activation function* and have 256 and 128 nodes respectively.\n",
        "- **1 Output layer:** The final layer is the output layer with a *softmax activation function*. This emits the probability of each class for any given image and adds up to 1."
      ]
    },
    {
      "cell_type": "code",
      "metadata": {
        "id": "txkcojYLMNRO",
        "colab_type": "code",
        "colab": {}
      },
      "source": [
        "model = tf.keras.Sequential([\n",
        "    tf.keras.layers.Flatten(input_shape = (28, 28, 1)),\n",
        "    tf.keras.layers.Dense(units = 256, activation = tf.nn.relu),\n",
        "    tf.keras.layers.Dense(units = 128, activation = tf.nn.relu),\n",
        "    tf.keras.layers.Dense(units = 10, activation = tf.nn.softmax)\n",
        "])"
      ],
      "execution_count": 0,
      "outputs": []
    },
    {
      "cell_type": "markdown",
      "metadata": {
        "id": "lk74Fk8LU3b_",
        "colab_type": "text"
      },
      "source": [
        "Next, I'll compile the whole model using the following parameters:\n",
        "- **optimizer:** It defines the optimizer to use when training the model to reduce the loss at each training cycle.\n",
        "- **loss:** The loss function is defined to calculate how far off is the model at predicting the actual class of a given input.\n",
        "- **metrics:** If we want to keep track of any metric, while training the model, we can define an array in this parameter."
      ]
    },
    {
      "cell_type": "code",
      "metadata": {
        "id": "LpLlavEaU179",
        "colab_type": "code",
        "colab": {}
      },
      "source": [
        "model.compile(\n",
        "    optimizer = 'adam',\n",
        "    loss = 'sparse_categorical_crossentropy',\n",
        "    metrics = ['accuracy']\n",
        ")"
      ],
      "execution_count": 0,
      "outputs": []
    },
    {
      "cell_type": "code",
      "metadata": {
        "id": "cSmBf_hTWTXd",
        "colab_type": "code",
        "colab": {}
      },
      "source": [
        ""
      ],
      "execution_count": 0,
      "outputs": []
    }
  ]
}