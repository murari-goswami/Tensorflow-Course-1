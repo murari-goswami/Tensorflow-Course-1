{
  "nbformat": 4,
  "nbformat_minor": 0,
  "metadata": {
    "colab": {
      "name": "Classification of Fashion MNIST using ANN",
      "version": "0.3.2",
      "provenance": [],
      "include_colab_link": true
    },
    "kernelspec": {
      "name": "python3",
      "display_name": "Python 3"
    }
  },
  "cells": [
    {
      "cell_type": "markdown",
      "metadata": {
        "id": "view-in-github",
        "colab_type": "text"
      },
      "source": [
        "<a href=\"https://colab.research.google.com/github/kb22/Tensorflow-Course/blob/master/Classification_of_Fashion_MNIST_using_ANN.ipynb\" target=\"_parent\"><img src=\"https://colab.research.google.com/assets/colab-badge.svg\" alt=\"Open In Colab\"/></a>"
      ]
    },
    {
      "cell_type": "markdown",
      "metadata": {
        "id": "UVhwdl1vtXiB",
        "colab_type": "text"
      },
      "source": [
        "# Classification of Fashion MNIST using ANN\n",
        "\n",
        "In this notebook, I'll use an Artificial Neural Network to train on the Fashion MNIST dataset and then classify amongst 10 different clothing items including shirt, sandel etc."
      ]
    },
    {
      "cell_type": "markdown",
      "metadata": {
        "id": "8HqRNLtGwCDQ",
        "colab_type": "text"
      },
      "source": [
        "## Background\n",
        "\n",
        "The Fashion MNIST dataset includes many images belonging to 10 different classes of clothing. These classes are:\n",
        "- T-shirt/top\n",
        "- Trouser\n",
        "- Pullover\n",
        "- Dress\n",
        "- Coat\n",
        "- Sandal\n",
        "- Shirt\n",
        "- Sneaker\n",
        "- Bag\n",
        "- Ankle boot\n",
        "\n",
        "The dataset allows us to use deep learning models to train on the images and then use it to classify new set of images from these classes. Each image is of the size 28x28 pixels. Each pixel value is represented as a value from 0 to 255. 0 refers to black, 255 refers to white and the number in between refer to different shades of gray. All images are grayscale."
      ]
    },
    {
      "cell_type": "markdown",
      "metadata": {
        "id": "QeL0l44Oxunw",
        "colab_type": "text"
      },
      "source": [
        "## Import libraries\n",
        "\n",
        "I'll import tensorflow and other libraries. The Fashion MNIST dataset is available in `tensorflow_datatsets`."
      ]
    },
    {
      "cell_type": "code",
      "metadata": {
        "id": "zJEiqG43tIeC",
        "colab_type": "code",
        "colab": {}
      },
      "source": [
        "import numpy as np\n",
        "import matplotlib.pyplot as plt\n",
        "%matplotlib inline\n",
        "\n",
        "import tensorflow as tf\n",
        "import tensorflow_datasets as tfds"
      ],
      "execution_count": 0,
      "outputs": []
    },
    {
      "cell_type": "markdown",
      "metadata": {
        "id": "RHkwD9dVy-7x",
        "colab_type": "text"
      },
      "source": [
        "I'll also set the logging to only log Tensorflow errors."
      ]
    },
    {
      "cell_type": "code",
      "metadata": {
        "id": "a51TaVLzy5ce",
        "colab_type": "code",
        "colab": {}
      },
      "source": [
        "import logging\n",
        "logger = tf.get_logger()\n",
        "logger.setLevel(logging.ERROR)"
      ],
      "execution_count": 0,
      "outputs": []
    },
    {
      "cell_type": "markdown",
      "metadata": {
        "id": "2xQJcYTnzE9q",
        "colab_type": "text"
      },
      "source": [
        "## Data retrival\n",
        "\n",
        "The `tensorflow_datasets` already has the MNIST dataset. So, the best way to get the data is from here itself.\n",
        "The `tfds.load()` method is used to fetch the dataset.\n",
        "- **name:** It is the name of the dataset that we want to download.\n",
        "- **data_dir:** It defines the directory where we want to save/read the dataset to/from.\n",
        "- **as_supervised:** It returns the labels along with the features so that we can perform supervised learning.\n",
        "- **with_info:** It returns information about the dataset.\n",
        "\n",
        "The complete list of datasets is available [here](https://www.tensorflow.org/datasets/datasets)."
      ]
    },
    {
      "cell_type": "code",
      "metadata": {
        "id": "0LlgDqoj0s0K",
        "colab_type": "code",
        "colab": {}
      },
      "source": [
        "dataset, info = tfds.load(name = 'fashion_mnist', data_dir = 'data', as_supervised = True, with_info = True)"
      ],
      "execution_count": 0,
      "outputs": []
    },
    {
      "cell_type": "markdown",
      "metadata": {
        "id": "bnbSxjT22W9P",
        "colab_type": "text"
      },
      "source": [
        "Let's first take a look at the information available with this dataset."
      ]
    },
    {
      "cell_type": "code",
      "metadata": {
        "id": "Z0pcvcJk0yye",
        "colab_type": "code",
        "colab": {
          "base_uri": "https://localhost:8080/",
          "height": 88
        },
        "outputId": "c1c7ea15-7350-41ce-b028-8ac8de110c06"
      },
      "source": [
        "print(\"Dataset name: {}\".format(info.name))\n",
        "print(\"Dataset version: {}\".format(info.version))\n",
        "print(\"Description: {}\".format(info.description))"
      ],
      "execution_count": 17,
      "outputs": [
        {
          "output_type": "stream",
          "text": [
            "Dataset name: fashion_mnist\n",
            "Dataset version: 1.0.0\n",
            "Description: Fashion-MNIST is a dataset of Zalando's article images consisting of a training set of 60,000 examples and a test set of 10,000 examples. Each example is a 28x28 grayscale image, associated with a label from 10 classes.\n"
          ],
          "name": "stdout"
        }
      ]
    },
    {
      "cell_type": "markdown",
      "metadata": {
        "id": "mEwDb7X_38g0",
        "colab_type": "text"
      },
      "source": [
        "There are 60,000 train images and 10,000 test images. Let's get those train and test data into separate variables."
      ]
    },
    {
      "cell_type": "code",
      "metadata": {
        "id": "00SB7YU92t41",
        "colab_type": "code",
        "colab": {}
      },
      "source": [
        "train_dataset = dataset['train']\n",
        "test_dataset = dataset['test']"
      ],
      "execution_count": 0,
      "outputs": []
    }
  ]
}